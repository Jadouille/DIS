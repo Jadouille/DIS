{
 "cells": [
  {
   "cell_type": "markdown",
   "metadata": {},
   "source": [
    "# Intro Exercise: Managing Taxi Trajectories"
   ]
  },
  {
   "cell_type": "markdown",
   "metadata": {},
   "source": [
    "In this exercise, we will implement a prototypical information system for managing trajectories.\n",
    "\n",
    "We assume that we manage sets of trajectories (of taxis).\n",
    "\n",
    "For testing, we have provided a dataset with trajectory data ($Lat x Long$) of one taxi.\n",
    "\n",
    "TaxiID| Timestamp            | Latitude    | Longitude\n",
    "------|----------------------|-------------|-----------\n",
    "1     | 2008-02-02 15:36:08  |  116.51172  | 39.92123\n",
    "1     | 2008-02-02 15:46:08  |  116.51135  | 39.93883\n",
    "1     | 2008-02-02 15:56:08  |  116.51627  | 39.91034\n",
    "\n",
    "In this exercise we will first understand the provided data, then model a trajectory and perform functions on top of it. Finally, we will integrate a different data source into the existing data. \n",
    "\n",
    "Two datasets are provided: **_taxi_log.txt_** and **_taxi_data_routes.csv_**."
   ]
  },
  {
   "cell_type": "code",
   "execution_count": 1,
   "metadata": {
    "ExecuteTime": {
     "end_time": "2021-09-27T13:07:21.431820Z",
     "start_time": "2021-09-27T13:07:19.979308Z"
    },
    "scrolled": false
   },
   "outputs": [
    {
     "data": {
      "text/html": [
       "<div>\n",
       "<style scoped>\n",
       "    .dataframe tbody tr th:only-of-type {\n",
       "        vertical-align: middle;\n",
       "    }\n",
       "\n",
       "    .dataframe tbody tr th {\n",
       "        vertical-align: top;\n",
       "    }\n",
       "\n",
       "    .dataframe thead th {\n",
       "        text-align: right;\n",
       "    }\n",
       "</style>\n",
       "<table border=\"1\" class=\"dataframe\">\n",
       "  <thead>\n",
       "    <tr style=\"text-align: right;\">\n",
       "      <th></th>\n",
       "      <th>tid</th>\n",
       "      <th>timestamp</th>\n",
       "      <th>x</th>\n",
       "      <th>y</th>\n",
       "    </tr>\n",
       "  </thead>\n",
       "  <tbody>\n",
       "    <tr>\n",
       "      <th>0</th>\n",
       "      <td>1</td>\n",
       "      <td>2008-02-02 15:36:08</td>\n",
       "      <td>116.51172</td>\n",
       "      <td>39.92123</td>\n",
       "    </tr>\n",
       "    <tr>\n",
       "      <th>1</th>\n",
       "      <td>1</td>\n",
       "      <td>2008-02-02 15:46:08</td>\n",
       "      <td>116.51135</td>\n",
       "      <td>39.93883</td>\n",
       "    </tr>\n",
       "    <tr>\n",
       "      <th>2</th>\n",
       "      <td>1</td>\n",
       "      <td>2008-02-02 15:46:08</td>\n",
       "      <td>116.51135</td>\n",
       "      <td>39.93883</td>\n",
       "    </tr>\n",
       "    <tr>\n",
       "      <th>3</th>\n",
       "      <td>1</td>\n",
       "      <td>2008-02-02 15:56:08</td>\n",
       "      <td>116.51627</td>\n",
       "      <td>39.91034</td>\n",
       "    </tr>\n",
       "    <tr>\n",
       "      <th>4</th>\n",
       "      <td>1</td>\n",
       "      <td>2008-02-02 16:06:08</td>\n",
       "      <td>116.47186</td>\n",
       "      <td>39.91248</td>\n",
       "    </tr>\n",
       "    <tr>\n",
       "      <th>...</th>\n",
       "      <td>...</td>\n",
       "      <td>...</td>\n",
       "      <td>...</td>\n",
       "      <td>...</td>\n",
       "    </tr>\n",
       "    <tr>\n",
       "      <th>583</th>\n",
       "      <td>1</td>\n",
       "      <td>2008-02-08 15:11:31</td>\n",
       "      <td>116.48347</td>\n",
       "      <td>39.91954</td>\n",
       "    </tr>\n",
       "    <tr>\n",
       "      <th>584</th>\n",
       "      <td>1</td>\n",
       "      <td>2008-02-08 15:21:31</td>\n",
       "      <td>116.50789</td>\n",
       "      <td>39.93128</td>\n",
       "    </tr>\n",
       "    <tr>\n",
       "      <th>585</th>\n",
       "      <td>1</td>\n",
       "      <td>2008-02-08 15:31:31</td>\n",
       "      <td>116.53174</td>\n",
       "      <td>39.91536</td>\n",
       "    </tr>\n",
       "    <tr>\n",
       "      <th>586</th>\n",
       "      <td>1</td>\n",
       "      <td>2008-02-08 15:41:31</td>\n",
       "      <td>116.57156</td>\n",
       "      <td>39.90263</td>\n",
       "    </tr>\n",
       "    <tr>\n",
       "      <th>587</th>\n",
       "      <td>1</td>\n",
       "      <td>2008-02-08 15:51:31</td>\n",
       "      <td>116.54723</td>\n",
       "      <td>39.90841</td>\n",
       "    </tr>\n",
       "  </tbody>\n",
       "</table>\n",
       "<p>588 rows × 4 columns</p>\n",
       "</div>"
      ],
      "text/plain": [
       "     tid            timestamp          x         y\n",
       "0      1  2008-02-02 15:36:08  116.51172  39.92123\n",
       "1      1  2008-02-02 15:46:08  116.51135  39.93883\n",
       "2      1  2008-02-02 15:46:08  116.51135  39.93883\n",
       "3      1  2008-02-02 15:56:08  116.51627  39.91034\n",
       "4      1  2008-02-02 16:06:08  116.47186  39.91248\n",
       "..   ...                  ...        ...       ...\n",
       "583    1  2008-02-08 15:11:31  116.48347  39.91954\n",
       "584    1  2008-02-08 15:21:31  116.50789  39.93128\n",
       "585    1  2008-02-08 15:31:31  116.53174  39.91536\n",
       "586    1  2008-02-08 15:41:31  116.57156  39.90263\n",
       "587    1  2008-02-08 15:51:31  116.54723  39.90841\n",
       "\n",
       "[588 rows x 4 columns]"
      ]
     },
     "execution_count": 1,
     "metadata": {},
     "output_type": "execute_result"
    }
   ],
   "source": [
    "# import libraries\n",
    "import numpy as np\n",
    "from datetime import datetime\n",
    "import pandas as pd\n",
    "\n",
    "# Import taxi data (taxi_log.txt)\n",
    "FILE = 'taxi_log.txt'\n",
    "dt = pd.read_csv(FILE, names = ['tid','timestamp','x','y'])\n",
    "dt"
   ]
  },
  {
   "cell_type": "markdown",
   "metadata": {},
   "source": [
    "### Data exploration\n",
    "\n",
    "Before starting implementing the modeling of the taxi trajectories, we will take a deeper look into the data by plotting the (lat, long) pairs. "
   ]
  },
  {
   "cell_type": "code",
   "execution_count": 2,
   "metadata": {
    "ExecuteTime": {
     "end_time": "2021-09-27T13:07:25.841869Z",
     "start_time": "2021-09-27T13:07:25.067259Z"
    }
   },
   "outputs": [
    {
     "data": {
      "image/png": "[encoded data removed]",
      "text/plain": [
       "<Figure size 432x288 with 1 Axes>"
      ]
     },
     "metadata": {
      "needs_background": "light"
     },
     "output_type": "display_data"
    }
   ],
   "source": [
    "# Visualize data\n",
    "import matplotlib.pyplot as plt\n",
    "\n",
    "%matplotlib inline\n",
    "\n",
    "x_l = list()\n",
    "y_l = list()\n",
    "\n",
    "for idx, row in dt.iterrows():\n",
    "    x_l.append(row['x'])\n",
    "    y_l.append(row['y'])\n",
    "\n",
    "x = np.array(x_l)\n",
    "y = np.array(y_l)\n",
    "\n",
    "plt.scatter(x, y)\n",
    "plt.show()"
   ]
  },
  {
   "cell_type": "markdown",
   "metadata": {},
   "source": [
    "## Question 1: Filter data\n",
    "\n",
    "Filter specific rows from the trajectory data that have latitude smaller than 116.5.\n",
    "\n",
    "_HINT: Use pandas Dataframe functions to filter specific rows from the Dataframe._"
   ]
  },
  {
   "cell_type": "code",
   "execution_count": 4,
   "metadata": {
    "ExecuteTime": {
     "end_time": "2021-09-27T13:08:11.698559Z",
     "start_time": "2021-09-27T13:08:11.675593Z"
    }
   },
   "outputs": [],
   "source": [
    "# --------- ADD YOUR CODE HERE -----------\n",
    "small_dt = dt[dt['x'] < 116.5]\n",
    "# ----------------------------------------"
   ]
  },
  {
   "cell_type": "code",
   "execution_count": 3,
   "metadata": {
    "ExecuteTime": {
     "end_time": "2021-09-27T13:07:52.813616Z",
     "start_time": "2021-09-27T13:07:52.783691Z"
    }
   },
   "outputs": [
    {
     "data": {
      "text/html": [
       "<div>\n",
       "<style scoped>\n",
       "    .dataframe tbody tr th:only-of-type {\n",
       "        vertical-align: middle;\n",
       "    }\n",
       "\n",
       "    .dataframe tbody tr th {\n",
       "        vertical-align: top;\n",
       "    }\n",
       "\n",
       "    .dataframe thead th {\n",
       "        text-align: right;\n",
       "    }\n",
       "</style>\n",
       "<table border=\"1\" class=\"dataframe\">\n",
       "  <thead>\n",
       "    <tr style=\"text-align: right;\">\n",
       "      <th></th>\n",
       "      <th>tid</th>\n",
       "      <th>timestamp</th>\n",
       "      <th>x</th>\n",
       "      <th>y</th>\n",
       "    </tr>\n",
       "  </thead>\n",
       "  <tbody>\n",
       "    <tr>\n",
       "      <th>0</th>\n",
       "      <td>1</td>\n",
       "      <td>2008-02-02 15:36:08</td>\n",
       "      <td>116.51172</td>\n",
       "      <td>39.92123</td>\n",
       "    </tr>\n",
       "    <tr>\n",
       "      <th>1</th>\n",
       "      <td>1</td>\n",
       "      <td>2008-02-02 15:46:08</td>\n",
       "      <td>116.51135</td>\n",
       "      <td>39.93883</td>\n",
       "    </tr>\n",
       "    <tr>\n",
       "      <th>2</th>\n",
       "      <td>1</td>\n",
       "      <td>2008-02-02 15:46:08</td>\n",
       "      <td>116.51135</td>\n",
       "      <td>39.93883</td>\n",
       "    </tr>\n",
       "    <tr>\n",
       "      <th>3</th>\n",
       "      <td>1</td>\n",
       "      <td>2008-02-02 15:56:08</td>\n",
       "      <td>116.51627</td>\n",
       "      <td>39.91034</td>\n",
       "    </tr>\n",
       "    <tr>\n",
       "      <th>4</th>\n",
       "      <td>1</td>\n",
       "      <td>2008-02-02 16:06:08</td>\n",
       "      <td>116.47186</td>\n",
       "      <td>39.91248</td>\n",
       "    </tr>\n",
       "  </tbody>\n",
       "</table>\n",
       "</div>"
      ],
      "text/plain": [
       "   tid            timestamp          x         y\n",
       "0    1  2008-02-02 15:36:08  116.51172  39.92123\n",
       "1    1  2008-02-02 15:46:08  116.51135  39.93883\n",
       "2    1  2008-02-02 15:46:08  116.51135  39.93883\n",
       "3    1  2008-02-02 15:56:08  116.51627  39.91034\n",
       "4    1  2008-02-02 16:06:08  116.47186  39.91248"
      ]
     },
     "execution_count": 3,
     "metadata": {},
     "output_type": "execute_result"
    }
   ],
   "source": [
    "dt.head()"
   ]
  },
  {
   "cell_type": "markdown",
   "metadata": {},
   "source": [
    "## Question 2: Create trajectory model\n",
    "\n",
    "A trajectory $tr$ is modeled as a function from the time domain $T$ to the 2-dimensional coordinate domain $Long\\:x\\:Lat$. In general, the function can be represented by enumeration or as an algorithm.\n",
    "\n",
    "Below we define a Trajectory model that contains functions for adding a point, getting the point for a given timestamp, approximating a point, and extracting the sub-trajectories/trips.\n",
    "\n",
    "Based on the following class:\n",
    "\n",
    "1. Instantiate a Trajectory object given the input dataset\n",
    "\n",
    "2. Extract the trips of the created Trajectory object"
   ]
  },
  {
   "cell_type": "code",
   "execution_count": 5,
   "metadata": {
    "ExecuteTime": {
     "end_time": "2021-09-27T13:09:19.524439Z",
     "start_time": "2021-09-27T13:09:19.508483Z"
    }
   },
   "outputs": [],
   "source": [
    "# the default model\n",
    "class Trajectory:\n",
    "    def __init__(self):\n",
    "        \"\"\"\n",
    "        This class represents a trajectory.\n",
    "        \"\"\"\n",
    "        self.path = dict()  # dict[str, tuple], represent the trajectory function as a dictionary (of sample values)\n",
    "        self.timestamps = list()  # list[datetime.datetime] maintain sorted list of timestamps\n",
    "\n",
    "    def add_point(self, ts, coord):\n",
    "        \"\"\"\n",
    "        Adds a coordinate point in the Trajectory object.\n",
    "\n",
    "        :param ts: str, timestamp of the coordinates\n",
    "        :param coord: np.array, the coordinates\n",
    "        \"\"\"\n",
    "        self.path[ts] = coord\n",
    "        datetime_obj = datetime.strptime(ts, '%Y-%m-%d %H:%M:%S')\n",
    "        self.timestamps.append(datetime_obj)\n",
    "        self.timestamps.sort()\n",
    "\n",
    "    def get_location(self, ts):\n",
    "        \"\"\"\n",
    "        Returns the location for a given timestamp if it exists.\n",
    "\n",
    "        :param ts: str, the timestamp of the requested location\n",
    "        :return: np.array, of the coordinates\n",
    "        \"\"\"\n",
    "        return self.path.get(ts, None)\n",
    "\n",
    "    def get_interpolated_location(self, ts):\n",
    "        \"\"\"\n",
    "        Interpolates the positions, i.e. creating a new function in the model, based on data.\n",
    "\n",
    "        :param ts: str, the timestamp of the requested location\n",
    "        :return: np.array, of the coordinates of the interpolated location\n",
    "        \"\"\"\n",
    "        ts = datetime.strptime(ts, '%Y-%m-%d %H:%M:%S')\n",
    "\n",
    "        if self.timestamps[0] <= ts <= self.timestamps[-1]:\n",
    "            idx = bisect(self.timestamps, ts)  # get index of the input timestamp in the sorted path\n",
    "\n",
    "            # get neighbors based on the index\n",
    "            previous_ts = self.timestamps[idx - 1]\n",
    "            next_ts = self.timestamps[idx]\n",
    "\n",
    "            previous_point = self.path[previous_ts.strftime('%Y-%m-%d %H:%M:%S')]\n",
    "            next_point = self.path[next_ts.strftime('%Y-%m-%d %H:%M:%S')]\n",
    "\n",
    "            return previous_point + ((previous_point - next_point) / (next_ts - previous_ts).total_seconds()) * (\n",
    "                (ts - previous_ts).total_seconds())\n",
    "\n",
    "        return None\n",
    "\n",
    "    def extract_trips(self):\n",
    "        \"\"\"\n",
    "        Extracting trips, i.e., creating a new representation for trajectories.\n",
    "\n",
    "        :return: list of lists of np.arrays, with the [start, end] coordinates of the trips \n",
    "        \"\"\"         \n",
    "        trips = list()\n",
    "        on_trip = True\n",
    "        path = list(self.path.values())\n",
    "        start = path[0]  # get first element\n",
    "        for i in range(1, len(path)):\n",
    "            current_point = path[i]\n",
    "            previous_point = path[i-1]\n",
    "            \n",
    "            # compute euclidean distance\n",
    "            distance = np.sqrt((current_point[0] - previous_point[0]) ** 2 + (current_point[1] - previous_point[1]) ** 2)\n",
    "            \n",
    "            if distance < 0.001:\n",
    "                if on_trip:\n",
    "                    on_trip = False\n",
    "                    end = path[i]\n",
    "                    trips.append((start, end))\n",
    "            else:\n",
    "                if not on_trip:\n",
    "                    start = path[i + 1]\n",
    "                    on_trip = True\n",
    "\n",
    "        return trips"
   ]
  },
  {
   "cell_type": "code",
   "execution_count": 6,
   "metadata": {
    "ExecuteTime": {
     "end_time": "2021-09-27T13:10:31.919389Z",
     "start_time": "2021-09-27T13:10:31.904245Z"
    }
   },
   "outputs": [
    {
     "data": {
      "text/html": [
       "<div>\n",
       "<style scoped>\n",
       "    .dataframe tbody tr th:only-of-type {\n",
       "        vertical-align: middle;\n",
       "    }\n",
       "\n",
       "    .dataframe tbody tr th {\n",
       "        vertical-align: top;\n",
       "    }\n",
       "\n",
       "    .dataframe thead th {\n",
       "        text-align: right;\n",
       "    }\n",
       "</style>\n",
       "<table border=\"1\" class=\"dataframe\">\n",
       "  <thead>\n",
       "    <tr style=\"text-align: right;\">\n",
       "      <th></th>\n",
       "      <th>tid</th>\n",
       "      <th>timestamp</th>\n",
       "      <th>x</th>\n",
       "      <th>y</th>\n",
       "    </tr>\n",
       "  </thead>\n",
       "  <tbody>\n",
       "    <tr>\n",
       "      <th>0</th>\n",
       "      <td>1</td>\n",
       "      <td>2008-02-02 15:36:08</td>\n",
       "      <td>116.51172</td>\n",
       "      <td>39.92123</td>\n",
       "    </tr>\n",
       "    <tr>\n",
       "      <th>1</th>\n",
       "      <td>1</td>\n",
       "      <td>2008-02-02 15:46:08</td>\n",
       "      <td>116.51135</td>\n",
       "      <td>39.93883</td>\n",
       "    </tr>\n",
       "    <tr>\n",
       "      <th>2</th>\n",
       "      <td>1</td>\n",
       "      <td>2008-02-02 15:46:08</td>\n",
       "      <td>116.51135</td>\n",
       "      <td>39.93883</td>\n",
       "    </tr>\n",
       "    <tr>\n",
       "      <th>3</th>\n",
       "      <td>1</td>\n",
       "      <td>2008-02-02 15:56:08</td>\n",
       "      <td>116.51627</td>\n",
       "      <td>39.91034</td>\n",
       "    </tr>\n",
       "    <tr>\n",
       "      <th>4</th>\n",
       "      <td>1</td>\n",
       "      <td>2008-02-02 16:06:08</td>\n",
       "      <td>116.47186</td>\n",
       "      <td>39.91248</td>\n",
       "    </tr>\n",
       "  </tbody>\n",
       "</table>\n",
       "</div>"
      ],
      "text/plain": [
       "   tid            timestamp          x         y\n",
       "0    1  2008-02-02 15:36:08  116.51172  39.92123\n",
       "1    1  2008-02-02 15:46:08  116.51135  39.93883\n",
       "2    1  2008-02-02 15:46:08  116.51135  39.93883\n",
       "3    1  2008-02-02 15:56:08  116.51627  39.91034\n",
       "4    1  2008-02-02 16:06:08  116.47186  39.91248"
      ]
     },
     "execution_count": 6,
     "metadata": {},
     "output_type": "execute_result"
    }
   ],
   "source": [
    "dt.head()"
   ]
  },
  {
   "cell_type": "code",
   "execution_count": 9,
   "metadata": {
    "ExecuteTime": {
     "end_time": "2021-09-27T13:12:04.383036Z",
     "start_time": "2021-09-27T13:12:04.293974Z"
    }
   },
   "outputs": [
    {
     "data": {
      "text/plain": [
       "[([116.51172, 39.92123], [116.69167, 39.851659999999995]),\n",
       " ([116.65945, 39.88563], [116.6915, 39.85161]),\n",
       " ([116.63086000000001, 39.9044], [116.69158999999999, 39.85204]),\n",
       " ([116.64668, 39.89091], [116.69155, 39.8518]),\n",
       " ([116.5727, 39.91361], [116.48331999999999, 39.89113]),\n",
       " ([116.51238000000001, 39.916540000000005], [116.69158, 39.85188]),\n",
       " ([116.69147, 39.85125], [116.69147, 39.85125]),\n",
       " ([116.59778, 39.90824], [116.69156000000001, 39.85179]),\n",
       " ([116.69136999999999, 39.85165], [116.69136999999999, 39.85165])]"
      ]
     },
     "execution_count": 9,
     "metadata": {},
     "output_type": "execute_result"
    }
   ],
   "source": [
    "# transforming representation as pandas into trajectory object\n",
    "tr = Trajectory()\n",
    "for i, position in dt.iterrows():\n",
    "    # --------- ADD YOUR CODE HERE -----------\n",
    "    tr.add_point(position['timestamp'], [position['x'], position['y']])\n",
    "    # ----------------------------------------\n",
    "    \n",
    "# compute the number of extracted trips\n",
    "# --------- ADD YOUR CODE HERE -----------\n",
    "tr.extract_trips()\n",
    "# ----------------------------------------"
   ]
  },
  {
   "cell_type": "markdown",
   "metadata": {},
   "source": [
    "## Question 3.1: Implement an alternative trajectory model\n",
    "\n",
    "In this question you need to implement an alternative representation of the trajectory as a sorted list of pairs for the `add_point()` and `get_location()` methods."
   ]
  },
  {
   "cell_type": "code",
   "execution_count": 37,
   "metadata": {
    "ExecuteTime": {
     "end_time": "2021-09-27T13:28:52.742062Z",
     "start_time": "2021-09-27T13:28:52.726054Z"
    }
   },
   "outputs": [],
   "source": [
    "class TrajectoryAlt:\n",
    "    def __init__(self):\n",
    "        # represent the trajectory function as a dictionary (of sample values)\n",
    "        self.path = []\n",
    "        self.ts = []\n",
    "\n",
    "    def add_point(self, ts, coord):\n",
    "        \"\"\"\n",
    "        Adds a coordinate point in the Trajectory object.\n",
    "\n",
    "        :param ts: str, timestamp of the coordinates\n",
    "        :param coord: np.array, the coordinates\n",
    "        \"\"\"\n",
    "        # --------- ADD YOUR CODE HERE -----------\n",
    "        self.ts.append(ts)\n",
    "        self.path.append(coord)\n",
    "\n",
    "#         raise NotImplementedError\n",
    "        # ----------------------------------------\n",
    "        \n",
    "    def get_location(self, ts):\n",
    "        \"\"\"\n",
    "        Returns the location for a given timestamp if it exists.\n",
    "\n",
    "        :param ts: str, the timestamp of the requested location\n",
    "        :return: np.array, of the coordinates\n",
    "        \"\"\"\n",
    "        # --------- ADD YOUR CODE HERE -----------\n",
    "        indices = [i for i, t in enumerate(self.ts) if t == ts]\n",
    "        return self.path[indices[0]]\n",
    "\n",
    "#         raise NotImplementedError\n",
    "        # ----------------------------------------\n"
   ]
  },
  {
   "cell_type": "markdown",
   "metadata": {},
   "source": [
    "## Question 3.2: Compare models\n",
    "\n",
    "Compare the two implemented trajectory models in terms of performance. Try to interpret these performance differences.\n",
    "\n",
    "_HINT: Use the time python library to compute the elapsed time:_\n",
    "\n",
    "```\n",
    "start = time.time()\n",
    "<YOUR CODE>\n",
    "end = time.time()\n",
    "print(end - start)\n",
    "```"
   ]
  },
  {
   "cell_type": "code",
   "execution_count": 39,
   "metadata": {
    "ExecuteTime": {
     "end_time": "2021-09-27T13:29:14.158385Z",
     "start_time": "2021-09-27T13:29:14.005241Z"
    }
   },
   "outputs": [
    {
     "name": "stdout",
     "output_type": "stream",
     "text": [
      "Prof's method: 0.08113813400268555 seconds\n",
      "My method: 0.049707889556884766 seconds\n",
      "Prof's method for retrieval: 0.0010013580322265625 seconds\n",
      "Mine's method for retrieval: 0.0031616687774658203 seconds\n"
     ]
    }
   ],
   "source": [
    "import time\n",
    "\n",
    "tr = Trajectory()\n",
    "tr_a = TrajectoryAlt()\n",
    "\n",
    "# TODO: Compare the performance of the models when adding points.\n",
    "# --------- ADD YOUR CODE HERE -----------\n",
    "\n",
    "start = time.time()\n",
    "tr = Trajectory()\n",
    "for i, position in dt.iterrows():\n",
    "    # --------- ADD YOUR CODE HERE -----------\n",
    "    tr.add_point(position['timestamp'], [position['x'], position['y']])\n",
    "    # -------\n",
    "    \n",
    "end = time.time()\n",
    "print(\"Prof's method: {} seconds\".format(end-start))\n",
    "\n",
    "\n",
    "start = time.time()\n",
    "tralt = TrajectoryAlt()\n",
    "for i, position in dt.iterrows():\n",
    "    # --------- ADD YOUR CODE HERE -----------\n",
    "    tralt.add_point(position['timestamp'], [position['x'], position['y']])\n",
    "    # -------\n",
    "    \n",
    "end = time.time()\n",
    "print(\"My method: {} seconds\".format(end-start))\n",
    "# ----------------------------------------\n",
    "    \n",
    "# TODO: Compare the performance of the models when requesting a point.\n",
    "# --------- ADD YOUR CODE HERE -----------\n",
    "tss = dt['timestamp'][200:300]\n",
    "\n",
    "start = time.time()\n",
    "for s in tss:\n",
    "    tr.get_location(s)\n",
    "end = time.time()\n",
    "print(\"Prof's method for retrieval: {} seconds\".format(end-start))\n",
    "    \n",
    "    \n",
    "start = time.time()\n",
    "for s in tss:    tralt.get_location(s)\n",
    "end = time.time()\n",
    "print(\"Mine's method for retrieval: {} seconds\".format(end-start))\n",
    "    \n",
    "\n",
    "# ----------------------------------------\n"
   ]
  },
  {
   "cell_type": "markdown",
   "metadata": {},
   "source": [
    "## Question 4: Integrating data from a new source\n",
    "\n",
    "In this question, we will use another dataset that consists of taxi routes too. \n",
    "The goal is to integrate the new data source with the initial dataset into one consolidated dataset.\n",
    "\n",
    "The provided dataset consist of the routes/trips of one taxi (the one used in previous questions).\n",
    "\n",
    "route_id | taxi_id | passanger_count | start_point | end_point | route\n",
    "----------| ----------| ----------| ----------| ---------- | ------\n",
    "1 | 1 | 3 | (116.511, 39.921) | (116.691, 39.851) | [(116.511, 39.921), ... , (116.691, 39.851)]\n",
    "2 | 1 | 1 | (116.659, 39.885) | (116.691, 39.851) | [(116.659, 39.885), ... , (116.691, 39.851)]\n",
    "3 | 1 | 1 | (116.630, 39.904) | (116.691, 39.852) | [(116.630, 39.904), ... , (116.691, 39.852)]\n",
    "\n",
    "The goal is to create a consilidated dataset with the following columns:\n",
    "- **taxiID**: the taxi identificator\n",
    "- **timestamp**: the timestamp of a specific point\n",
    "- **latitude**: the latitude of the point\n",
    "- **longitude**: the longitude of the point\n",
    "- **routeID**: the route that the taxi was doing at that time\n",
    "- **passangers**: the number of passanger the route had\n",
    "\n",
    "_HINT: Since this data is in a different format, it needs to be mapped to the representation we have been using for the initial dataset._"
   ]
  },
  {
   "cell_type": "code",
   "execution_count": 40,
   "metadata": {
    "ExecuteTime": {
     "end_time": "2021-09-27T13:29:54.748757Z",
     "start_time": "2021-09-27T13:29:54.682330Z"
    }
   },
   "outputs": [
    {
     "data": {
      "text/html": [
       "<div>\n",
       "<style scoped>\n",
       "    .dataframe tbody tr th:only-of-type {\n",
       "        vertical-align: middle;\n",
       "    }\n",
       "\n",
       "    .dataframe tbody tr th {\n",
       "        vertical-align: top;\n",
       "    }\n",
       "\n",
       "    .dataframe thead th {\n",
       "        text-align: right;\n",
       "    }\n",
       "</style>\n",
       "<table border=\"1\" class=\"dataframe\">\n",
       "  <thead>\n",
       "    <tr style=\"text-align: right;\">\n",
       "      <th></th>\n",
       "      <th>route_id</th>\n",
       "      <th>taxi_id</th>\n",
       "      <th>passanger_count</th>\n",
       "      <th>start_point</th>\n",
       "      <th>end_point</th>\n",
       "      <th>route</th>\n",
       "    </tr>\n",
       "  </thead>\n",
       "  <tbody>\n",
       "    <tr>\n",
       "      <th>0</th>\n",
       "      <td>1</td>\n",
       "      <td>1</td>\n",
       "      <td>3</td>\n",
       "      <td>[116.51172,39.92123]</td>\n",
       "      <td>[116.69167,39.85166]</td>\n",
       "      <td>[[116.51172, 39.92123], [116.51135, 39.93883],...</td>\n",
       "    </tr>\n",
       "    <tr>\n",
       "      <th>1</th>\n",
       "      <td>2</td>\n",
       "      <td>1</td>\n",
       "      <td>1</td>\n",
       "      <td>[116.65945,39.88563]</td>\n",
       "      <td>[116.6915,39.85161]</td>\n",
       "      <td>[[116.65945, 39.88563], [116.6174, 39.9057], [...</td>\n",
       "    </tr>\n",
       "    <tr>\n",
       "      <th>2</th>\n",
       "      <td>3</td>\n",
       "      <td>1</td>\n",
       "      <td>1</td>\n",
       "      <td>[116.63086,39.9044]</td>\n",
       "      <td>[116.69159,39.85204]</td>\n",
       "      <td>[[116.63086, 39.9044], [116.57792, 39.9129], [...</td>\n",
       "    </tr>\n",
       "    <tr>\n",
       "      <th>3</th>\n",
       "      <td>4</td>\n",
       "      <td>1</td>\n",
       "      <td>2</td>\n",
       "      <td>[116.64668,39.89091]</td>\n",
       "      <td>[116.69155,39.8518]</td>\n",
       "      <td>[[116.64668, 39.89091], [116.59985, 39.90881],...</td>\n",
       "    </tr>\n",
       "    <tr>\n",
       "      <th>4</th>\n",
       "      <td>5</td>\n",
       "      <td>1</td>\n",
       "      <td>1</td>\n",
       "      <td>[116.5727,39.91361]</td>\n",
       "      <td>[116.48332,39.89113]</td>\n",
       "      <td>[[116.5727, 39.91361], [116.51523, 39.91522], ...</td>\n",
       "    </tr>\n",
       "    <tr>\n",
       "      <th>5</th>\n",
       "      <td>6</td>\n",
       "      <td>1</td>\n",
       "      <td>1</td>\n",
       "      <td>[116.51238,39.91654]</td>\n",
       "      <td>[116.69158,39.85188]</td>\n",
       "      <td>[[116.51238, 39.91654], [116.51167, 39.92152],...</td>\n",
       "    </tr>\n",
       "    <tr>\n",
       "      <th>6</th>\n",
       "      <td>7</td>\n",
       "      <td>1</td>\n",
       "      <td>2</td>\n",
       "      <td>[116.59778,39.90824]</td>\n",
       "      <td>[116.69156,39.85179]</td>\n",
       "      <td>[[116.59778, 39.90824], [116.57738, 39.91294],...</td>\n",
       "    </tr>\n",
       "    <tr>\n",
       "      <th>7</th>\n",
       "      <td>8</td>\n",
       "      <td>1</td>\n",
       "      <td>2</td>\n",
       "      <td>[116.60394,39.90741]</td>\n",
       "      <td>[116.54723,39.90841]</td>\n",
       "      <td>[[116.60394, 39.90741], [116.54559, 39.91474],...</td>\n",
       "    </tr>\n",
       "  </tbody>\n",
       "</table>\n",
       "</div>"
      ],
      "text/plain": [
       "   route_id  taxi_id  passanger_count           start_point  \\\n",
       "0         1        1                3  [116.51172,39.92123]   \n",
       "1         2        1                1  [116.65945,39.88563]   \n",
       "2         3        1                1   [116.63086,39.9044]   \n",
       "3         4        1                2  [116.64668,39.89091]   \n",
       "4         5        1                1   [116.5727,39.91361]   \n",
       "5         6        1                1  [116.51238,39.91654]   \n",
       "6         7        1                2  [116.59778,39.90824]   \n",
       "7         8        1                2  [116.60394,39.90741]   \n",
       "\n",
       "              end_point                                              route  \n",
       "0  [116.69167,39.85166]  [[116.51172, 39.92123], [116.51135, 39.93883],...  \n",
       "1   [116.6915,39.85161]  [[116.65945, 39.88563], [116.6174, 39.9057], [...  \n",
       "2  [116.69159,39.85204]  [[116.63086, 39.9044], [116.57792, 39.9129], [...  \n",
       "3   [116.69155,39.8518]  [[116.64668, 39.89091], [116.59985, 39.90881],...  \n",
       "4  [116.48332,39.89113]  [[116.5727, 39.91361], [116.51523, 39.91522], ...  \n",
       "5  [116.69158,39.85188]  [[116.51238, 39.91654], [116.51167, 39.92152],...  \n",
       "6  [116.69156,39.85179]  [[116.59778, 39.90824], [116.57738, 39.91294],...  \n",
       "7  [116.54723,39.90841]  [[116.60394, 39.90741], [116.54559, 39.91474],...  "
      ]
     },
     "execution_count": 40,
     "metadata": {},
     "output_type": "execute_result"
    }
   ],
   "source": [
    "# Import additional taxi data (taxi_data_routes.csv)\n",
    "import ast\n",
    "\n",
    "FILE = 'taxi_data_routes.csv'\n",
    "dt_new = pd.read_csv(FILE, names = ['route_id','taxi_id','passanger_count',\n",
    "                                    'start_point','end_point','route'], sep='|')\n",
    "dt_new['route'] = dt_new['route'].apply(lambda s: list(ast.literal_eval(s)))\n",
    "dt_new"
   ]
  },
  {
   "cell_type": "code",
   "execution_count": null,
   "metadata": {},
   "outputs": [],
   "source": [
    "# TODO: Integrate the two data sources into one dataframe\n",
    "# HINT: \n",
    "# - first, expand the points of each route with the .explode pandas function\n",
    "# - second, merge the two dataframes\n",
    "# --------- ADD YOUR CODE HERE -----------\n",
    "\n",
    "dt_new = dt_new.explode('route')\n",
    "dt_new['x'] = dt_new['route'].apply(lambda x: x[0])\n",
    "dt_new['y']= dt_new['route'].apply(lambda x: x[1])\n",
    "\n",
    "\n",
    "# ----------------------------------------"
   ]
  },
  {
   "cell_type": "code",
   "execution_count": 44,
   "metadata": {
    "ExecuteTime": {
     "end_time": "2021-09-27T13:31:16.611694Z",
     "start_time": "2021-09-27T13:31:16.598736Z"
    }
   },
   "outputs": [
    {
     "data": {
      "text/html": [
       "<div>\n",
       "<style scoped>\n",
       "    .dataframe tbody tr th:only-of-type {\n",
       "        vertical-align: middle;\n",
       "    }\n",
       "\n",
       "    .dataframe tbody tr th {\n",
       "        vertical-align: top;\n",
       "    }\n",
       "\n",
       "    .dataframe thead th {\n",
       "        text-align: right;\n",
       "    }\n",
       "</style>\n",
       "<table border=\"1\" class=\"dataframe\">\n",
       "  <thead>\n",
       "    <tr style=\"text-align: right;\">\n",
       "      <th></th>\n",
       "      <th>tid</th>\n",
       "      <th>timestamp</th>\n",
       "      <th>x</th>\n",
       "      <th>y</th>\n",
       "    </tr>\n",
       "  </thead>\n",
       "  <tbody>\n",
       "    <tr>\n",
       "      <th>0</th>\n",
       "      <td>1</td>\n",
       "      <td>2008-02-02 15:36:08</td>\n",
       "      <td>116.51172</td>\n",
       "      <td>39.92123</td>\n",
       "    </tr>\n",
       "    <tr>\n",
       "      <th>1</th>\n",
       "      <td>1</td>\n",
       "      <td>2008-02-02 15:46:08</td>\n",
       "      <td>116.51135</td>\n",
       "      <td>39.93883</td>\n",
       "    </tr>\n",
       "    <tr>\n",
       "      <th>2</th>\n",
       "      <td>1</td>\n",
       "      <td>2008-02-02 15:46:08</td>\n",
       "      <td>116.51135</td>\n",
       "      <td>39.93883</td>\n",
       "    </tr>\n",
       "    <tr>\n",
       "      <th>3</th>\n",
       "      <td>1</td>\n",
       "      <td>2008-02-02 15:56:08</td>\n",
       "      <td>116.51627</td>\n",
       "      <td>39.91034</td>\n",
       "    </tr>\n",
       "    <tr>\n",
       "      <th>4</th>\n",
       "      <td>1</td>\n",
       "      <td>2008-02-02 16:06:08</td>\n",
       "      <td>116.47186</td>\n",
       "      <td>39.91248</td>\n",
       "    </tr>\n",
       "  </tbody>\n",
       "</table>\n",
       "</div>"
      ],
      "text/plain": [
       "   tid            timestamp          x         y\n",
       "0    1  2008-02-02 15:36:08  116.51172  39.92123\n",
       "1    1  2008-02-02 15:46:08  116.51135  39.93883\n",
       "2    1  2008-02-02 15:46:08  116.51135  39.93883\n",
       "3    1  2008-02-02 15:56:08  116.51627  39.91034\n",
       "4    1  2008-02-02 16:06:08  116.47186  39.91248"
      ]
     },
     "execution_count": 44,
     "metadata": {},
     "output_type": "execute_result"
    }
   ],
   "source": [
    "dt.head()"
   ]
  },
  {
   "cell_type": "code",
   "execution_count": 46,
   "metadata": {
    "ExecuteTime": {
     "end_time": "2021-09-27T13:32:08.536600Z",
     "start_time": "2021-09-27T13:32:08.526661Z"
    }
   },
   "outputs": [],
   "source": []
  },
  {
   "cell_type": "code",
   "execution_count": 47,
   "metadata": {
    "ExecuteTime": {
     "end_time": "2021-09-27T13:32:12.380175Z",
     "start_time": "2021-09-27T13:32:12.361106Z"
    }
   },
   "outputs": [
    {
     "data": {
      "text/html": [
       "<div>\n",
       "<style scoped>\n",
       "    .dataframe tbody tr th:only-of-type {\n",
       "        vertical-align: middle;\n",
       "    }\n",
       "\n",
       "    .dataframe tbody tr th {\n",
       "        vertical-align: top;\n",
       "    }\n",
       "\n",
       "    .dataframe thead th {\n",
       "        text-align: right;\n",
       "    }\n",
       "</style>\n",
       "<table border=\"1\" class=\"dataframe\">\n",
       "  <thead>\n",
       "    <tr style=\"text-align: right;\">\n",
       "      <th></th>\n",
       "      <th>route_id</th>\n",
       "      <th>taxi_id</th>\n",
       "      <th>passanger_count</th>\n",
       "      <th>start_point</th>\n",
       "      <th>end_point</th>\n",
       "      <th>route</th>\n",
       "      <th>x</th>\n",
       "      <th>y</th>\n",
       "    </tr>\n",
       "  </thead>\n",
       "  <tbody>\n",
       "    <tr>\n",
       "      <th>0</th>\n",
       "      <td>1</td>\n",
       "      <td>1</td>\n",
       "      <td>3</td>\n",
       "      <td>[116.51172,39.92123]</td>\n",
       "      <td>[116.69167,39.85166]</td>\n",
       "      <td>[116.51172, 39.92123]</td>\n",
       "      <td>116.51172</td>\n",
       "      <td>39.92123</td>\n",
       "    </tr>\n",
       "    <tr>\n",
       "      <th>0</th>\n",
       "      <td>1</td>\n",
       "      <td>1</td>\n",
       "      <td>3</td>\n",
       "      <td>[116.51172,39.92123]</td>\n",
       "      <td>[116.69167,39.85166]</td>\n",
       "      <td>[116.51135, 39.93883]</td>\n",
       "      <td>116.51135</td>\n",
       "      <td>39.93883</td>\n",
       "    </tr>\n",
       "    <tr>\n",
       "      <th>0</th>\n",
       "      <td>1</td>\n",
       "      <td>1</td>\n",
       "      <td>3</td>\n",
       "      <td>[116.51172,39.92123]</td>\n",
       "      <td>[116.69167,39.85166]</td>\n",
       "      <td>[116.51627, 39.91034]</td>\n",
       "      <td>116.51627</td>\n",
       "      <td>39.91034</td>\n",
       "    </tr>\n",
       "    <tr>\n",
       "      <th>0</th>\n",
       "      <td>1</td>\n",
       "      <td>1</td>\n",
       "      <td>3</td>\n",
       "      <td>[116.51172,39.92123]</td>\n",
       "      <td>[116.69167,39.85166]</td>\n",
       "      <td>[116.47186, 39.91248]</td>\n",
       "      <td>116.47186</td>\n",
       "      <td>39.91248</td>\n",
       "    </tr>\n",
       "    <tr>\n",
       "      <th>0</th>\n",
       "      <td>1</td>\n",
       "      <td>1</td>\n",
       "      <td>3</td>\n",
       "      <td>[116.51172,39.92123]</td>\n",
       "      <td>[116.69167,39.85166]</td>\n",
       "      <td>[116.47217, 39.92498]</td>\n",
       "      <td>116.47217</td>\n",
       "      <td>39.92498</td>\n",
       "    </tr>\n",
       "  </tbody>\n",
       "</table>\n",
       "</div>"
      ],
      "text/plain": [
       "   route_id  taxi_id  passanger_count           start_point  \\\n",
       "0         1        1                3  [116.51172,39.92123]   \n",
       "0         1        1                3  [116.51172,39.92123]   \n",
       "0         1        1                3  [116.51172,39.92123]   \n",
       "0         1        1                3  [116.51172,39.92123]   \n",
       "0         1        1                3  [116.51172,39.92123]   \n",
       "\n",
       "              end_point                  route          x         y  \n",
       "0  [116.69167,39.85166]  [116.51172, 39.92123]  116.51172  39.92123  \n",
       "0  [116.69167,39.85166]  [116.51135, 39.93883]  116.51135  39.93883  \n",
       "0  [116.69167,39.85166]  [116.51627, 39.91034]  116.51627  39.91034  \n",
       "0  [116.69167,39.85166]  [116.47186, 39.91248]  116.47186  39.91248  \n",
       "0  [116.69167,39.85166]  [116.47217, 39.92498]  116.47217  39.92498  "
      ]
     },
     "execution_count": 47,
     "metadata": {},
     "output_type": "execute_result"
    }
   ],
   "source": [
    "dt_new.head()"
   ]
  },
  {
   "cell_type": "markdown",
   "metadata": {},
   "source": [
    "---\n",
    "\n",
    "## Additional material from the lecture\n",
    "\n",
    "In this section, we review some key points mentioned in the lecture regarding abstract models and homomorphism.\n",
    "\n",
    "Run the following examples to get a deeper understanding of these concepts."
   ]
  },
  {
   "cell_type": "markdown",
   "metadata": {},
   "source": [
    "#### Different datatypes representing the same model"
   ]
  },
  {
   "cell_type": "code",
   "execution_count": null,
   "metadata": {},
   "outputs": [],
   "source": [
    "dict_tr = {}\n",
    "dict_tr[0] = [0,0]\n",
    "dict_tr[1] = [1,0]\n",
    "dict_tr"
   ]
  },
  {
   "cell_type": "code",
   "execution_count": null,
   "metadata": {},
   "outputs": [],
   "source": [
    "list_tr = []\n",
    "list_tr.append([0,0])\n",
    "list_tr.append([1,0])\n",
    "list_tr"
   ]
  },
  {
   "cell_type": "code",
   "execution_count": null,
   "metadata": {},
   "outputs": [],
   "source": [
    "import pandas as pd\n",
    "d = {0: [0, 0], 1: [1, 0]}\n",
    "df = pd.DataFrame(data = d)\n",
    "df"
   ]
  },
  {
   "cell_type": "markdown",
   "metadata": {},
   "source": [
    "#### Representation and Homomorphisms\n",
    "\n",
    "A representation is a relationship among mathematical structures. One example of such a relationship is the relationship among a data structure and its encoding, e.g., as a string.\n",
    "\n",
    "In general a homomorphism is a mapping $H: X -> Y$ that satisfies for functions $f$ the property $H(f(x)) = f(H(x))$\n",
    "\n",
    "We define the following Python functions for determining the length of a list of records, once directly once in the encoded format.\n",
    "\n",
    "Verify by an example that the function is preserved under the mapping to a JSON encoding and thus the encoding is a homomorphism."
   ]
  },
  {
   "cell_type": "code",
   "execution_count": null,
   "metadata": {},
   "outputs": [],
   "source": [
    "import json\n",
    "\n",
    "result = dt.to_json(orient=\"records\")\n",
    "parsed = json.loads(result)"
   ]
  },
  {
   "cell_type": "code",
   "execution_count": null,
   "metadata": {},
   "outputs": [],
   "source": [
    "def R(X):\n",
    "    if type(X) == 'list':\n",
    "        return json.dumps(X)\n",
    "    if type(X) == 'int':\n",
    "        return X\n",
    "\n",
    "def length(l):\n",
    "    if isinstance(l,list):\n",
    "        return len(l)\n",
    "    if isinstance(l,str):\n",
    "        return l.count(\"],\")+1"
   ]
  },
  {
   "cell_type": "code",
   "execution_count": null,
   "metadata": {},
   "outputs": [],
   "source": [
    "R(length(result)) == length(R(result))"
   ]
  },
  {
   "cell_type": "markdown",
   "metadata": {},
   "source": [
    "#### Not every representation is an (exact) homomorphism"
   ]
  },
  {
   "cell_type": "code",
   "execution_count": null,
   "metadata": {},
   "outputs": [],
   "source": [
    "def timesteps(s, u, n):\n",
    "    print(s)\n",
    "    if n == 0:\n",
    "        return s\n",
    "    else:\n",
    "        return timesteps(s + u, u, n-1)"
   ]
  },
  {
   "cell_type": "code",
   "execution_count": null,
   "metadata": {},
   "outputs": [],
   "source": [
    "timesteps(0, 0.2, 10)"
   ]
  },
  {
   "cell_type": "markdown",
   "metadata": {},
   "source": [
    "What is going wrong. If $R: T -> float$ for mapping the time domain were an exact homomorphism, then for the function $timesteps: Start x Unit x NumberOfSteps -> End$ we would have:\n",
    "\n",
    "> $R(timesteps(s,u,n)) = timesteps(R(s),R(u),R(n))$\n",
    "\n",
    "If we take $s = 0$, $u = 0.2$ and $n = 10$, then the function $timesteps(0, 0.2, 10)$ evaluates to 2, and R(2) = 2.\n",
    "\n",
    "On the other hand, if we evaluate the above function implemented using floating point arithmetic, we obtain as result 1.9999999999999998, which is different."
   ]
  }
 ],
 "metadata": {
  "kernelspec": {
   "display_name": "Python 3",
   "language": "python",
   "name": "python3"
  },
  "language_info": {
   "codemirror_mode": {
    "name": "ipython",
    "version": 3
   },
   "file_extension": ".py",
   "mimetype": "text/x-python",
   "name": "python",
   "nbconvert_exporter": "python",
   "pygments_lexer": "ipython3",
   "version": "3.6.12"
  },
  "toc": {
   "base_numbering": 1,
   "nav_menu": {},
   "number_sections": true,
   "sideBar": true,
   "skip_h1_title": false,
   "title_cell": "Table of Contents",
   "title_sidebar": "Contents",
   "toc_cell": false,
   "toc_position": {},
   "toc_section_display": true,
   "toc_window_display": false
  }
 },
 "nbformat": 4,
 "nbformat_minor": 2
}
